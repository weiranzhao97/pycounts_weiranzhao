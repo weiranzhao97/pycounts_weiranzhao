{
    "cells": [
        {
            "cell_type": "markdown",
            "metadata": {},
            "source": [
                "# Example usage\n",
                "\n",
                "To use `pycountsweiranzhao` in a project:"
            ]
        },
        {
            "cell_type": "markdown",
            "metadata": {},
            "source": [
                "# Imports"
            ]
        },
        {
            "cell_type": "code",
            "execution_count": null,
            "metadata": {},
            "outputs": [],
            "source": [
                "from pycountsweiranzhao.pycounts import count_words\n",
                "from pycountsweiranzhao.plotting import plot_words\n"
            ]
        },
        {
            "cell_type": "markdown",
            "metadata": {},
            "source": [
                "# Create a text file\n",
                "\n",
                "We'll first create a text file to work with using a famous quote from Einstein:"
            ]
        },
        {
            "cell_type": "code",
            "execution_count": null,
            "metadata": {},
            "outputs": [],
            "source": [
                "quote = \"\"\"Insanity is doing the same thing over and over and expecting different results.\"\"\"\n",
                "with open('einstein.txt', 'w') as file:\n",
                "    file.write(quote)"
            ]
        },
        {
            "cell_type": "markdown",
            "metadata": {},
            "source": [
                "# Count words\n",
                "\n",
                "We can count the words in our text using the count_words() function."
            ]
        },
        {
            "cell_type": "code",
            "execution_count": null,
            "metadata": {},
            "outputs": [],
            "source": [
                "counts = count_words('einstein.txt')\n",
                "print(counts)"
            ]
        },
        {
            "cell_type": "markdown",
            "metadata": {},
            "source": [
                "# Plot words\n",
                "\n",
                "We can plot frequency of words using plot_words() function."
            ]
        },
        {
            "cell_type": "code",
            "execution_count": null,
            "metadata": {},
            "outputs": [],
            "source": [
                "fig = plot_words(counts, n=5)"
            ]
        }
    ],
    "metadata": {
        "kernelspec": {
            "display_name": "Python 3",
            "language": "python",
            "name": "python3"
        },
        "language_info": {
            "codemirror_mode": {
                "name": "ipython",
                "version": 3
            },
            "file_extension": ".py",
            "mimetype": "text/x-python",
            "name": "python",
            "nbconvert_exporter": "python",
            "pygments_lexer": "ipython3",
            "version": "3.8.5"
        }
    },
    "nbformat": 4,
    "nbformat_minor": 4
}
